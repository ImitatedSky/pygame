{
  "nbformat": 4,
  "nbformat_minor": 0,
  "metadata": {
    "colab": {
      "provenance": [],
      "authorship_tag": "ABX9TyNzjytQ5eD+DM/YGHfkmLKk",
      "include_colab_link": true
    },
    "kernelspec": {
      "name": "python3",
      "display_name": "Python 3"
    },
    "language_info": {
      "name": "python"
    }
  },
  "cells": [
    {
      "cell_type": "markdown",
      "metadata": {
        "id": "view-in-github",
        "colab_type": "text"
      },
      "source": [
        "<a href=\"https://colab.research.google.com/github/ImitatedSky/pygame/blob/main/aimgame.ipynb\" target=\"_parent\"><img src=\"https://colab.research.google.com/assets/colab-badge.svg\" alt=\"Open In Colab\"/></a>"
      ]
    },
    {
      "cell_type": "code",
      "source": [
        "!pip install pygame"
      ],
      "metadata": {
        "id": "n_fhA_kQGiYd"
      },
      "execution_count": null,
      "outputs": []
    },
    {
      "cell_type": "code",
      "execution_count": null,
      "metadata": {
        "id": "7YBt-cWQFtuZ"
      },
      "outputs": [],
      "source": [
        "# make a aim training game with pygame\n",
        "\n",
        "import pygame\n",
        "import sys\n",
        "import random\n",
        "import time\n",
        "import math\n",
        "\n",
        "pygame.init()\n",
        "\n",
        "# set up the window\n",
        "window_width = 640\n",
        "window_height = 480\n",
        "screen  = pygame.display.set_mode((window_width,window_height), 0, 32)\n",
        "pygame.display.set_caption('aim train!')\n",
        "\n",
        "# set up the colors\n",
        "BLACK = (0, 0, 0)\n",
        "WHITE = (255, 255, 255)\n",
        "screen .fill(BLACK)\n",
        "\n",
        "# Target\n",
        "class Target(pygame.sprite.Sprite):\n",
        "    dx = 0         #x位移量\n",
        "    dy = 0         #y位移量\n",
        "    x = 0          #標靶x坐標\n",
        "    y = 0          #標靶y坐標\n",
        "    direction = 0  #標靶移動方向\n",
        "    radium = 0     #標靶半徑\n",
        "    color = 0      #標靶顏色\n",
        "    speed = 0      #標靶移動速度\n",
        "    update_time = 60#標靶更新時間\n",
        "\n",
        "    def __init__(self, x, y, dx , dy, radium, color, speed):\n",
        "        pygame.sprite.Sprite.__init__(self)\n",
        "\n",
        "        self.x = x\n",
        "        self.y = y\n",
        "        self.dx = dx\n",
        "        self.dy = dy\n",
        "\n",
        "        self.speed = speed\n",
        "        self.radium = radium\n",
        "        self.color = color\n",
        "        self.update_time = 60\n",
        "\n",
        "        #繪製球體\n",
        "        self.image = pygame.Surface([radium*2, radium*2])  #建立球矩形繪圖區\n",
        "        # self.image.fill((255,255,255))        #矩形區塊背景為WHITE\n",
        "        self.image.set_colorkey((255,255,255))     #設定透明色\n",
        "        pygame.draw.circle(self.image, color, (radium,radium), radium, 0)\n",
        "        self.rect = self.image.get_rect()  #取得球體區域\n",
        "        self.rect.center = (x,y)       #初始位置\n",
        "        self.direction = random.randint(0,0)  #移動角度\n",
        "\n",
        "    # 更新標靶位置 縮放\n",
        "    def update(self):\n",
        "        if self.update_time == 0:\n",
        "            self.update_time = 60\n",
        "            self.direction = random.randint(0,360)\n",
        "            self.speed = random.randint(1,5)\n",
        "        self.x += self.speed * self.dx\n",
        "        self.y += self.speed * self.dy\n",
        "        self.rect.center = (self.x,self.y)\n",
        "\n",
        "        #超出視窗範圍\n",
        "        # if self.x < 0 or self.x > window_width or self.y < 0 or self.y > window_height:\n",
        "\n",
        "\n",
        "\n",
        "t = Target(320,240,1,1,35,(0,0,255),3)\n",
        "\n",
        "screen.blit(t.image, t.rect.topleft)  #繪製藍球\n",
        "\n",
        "\n",
        "# 更新畫面，等所有操作完成後一次更新（若沒更新，則元素不會出現）\n",
        "pygame.display.update()\n",
        "\n",
        "#關閉程式的程式碼 點擊右上角的叉叉\n",
        "running = True\n",
        "while running:\n",
        "    for event in pygame.event.get():\n",
        "        if event.type == pygame.QUIT:\n",
        "            pygame.quit()\n",
        "            sys.exit()\n",
        "            # running = False\n",
        "\n",
        "    pygame.display.flip() #更新畫面"
      ]
    }
  ]
}